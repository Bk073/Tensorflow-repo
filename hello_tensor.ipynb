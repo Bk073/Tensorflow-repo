{
  "nbformat": 4,
  "nbformat_minor": 0,
  "metadata": {
    "colab": {
      "name": "hello_tensor.ipynb",
      "version": "0.3.2",
      "provenance": [],
      "collapsed_sections": [],
      "include_colab_link": true
    },
    "kernelspec": {
      "name": "python3",
      "display_name": "Python 3"
    }
  },
  "cells": [
    {
      "cell_type": "markdown",
      "metadata": {
        "id": "view-in-github",
        "colab_type": "text"
      },
      "source": [
        "<a href=\"https://colab.research.google.com/github/Bk073/Tensorflow-repo/blob/master/hello_tensor.ipynb\" target=\"_parent\"><img src=\"https://colab.research.google.com/assets/colab-badge.svg\" alt=\"Open In Colab\"/></a>"
      ]
    },
    {
      "cell_type": "code",
      "metadata": {
        "id": "rhPNsNHKpXdB",
        "colab_type": "code",
        "colab": {}
      },
      "source": [
        "import tensorflow as tf"
      ],
      "execution_count": 0,
      "outputs": []
    },
    {
      "cell_type": "code",
      "metadata": {
        "id": "5oNFted0pjUv",
        "colab_type": "code",
        "colab": {}
      },
      "source": [
        "# Constant docs\n",
        "# https://www.tensorflow.org/api_docs/python/tf/constant\n",
        "\n",
        "\n",
        "# Create a Constant op\n",
        "# The op is added as a node to the default graph.\n",
        "\n",
        "hello = tf.constant('Hello, TensorFlow!', shape=[2, 2])\n",
        "p = tf.constant('hy')"
      ],
      "execution_count": 0,
      "outputs": []
    },
    {
      "cell_type": "code",
      "metadata": {
        "id": "iOV1BlKWpvtX",
        "colab_type": "code",
        "colab": {}
      },
      "source": [
        "sess = tf.Session()"
      ],
      "execution_count": 0,
      "outputs": []
    },
    {
      "cell_type": "code",
      "metadata": {
        "id": "fGQldkWzqlpr",
        "colab_type": "code",
        "colab": {
          "base_uri": "https://localhost:8080/",
          "height": 68
        },
        "outputId": "6ddfa73d-778e-49d7-8fd5-840ac736d4ff"
      },
      "source": [
        "print(sess.run(hello))\n",
        "print(sess.run(p))"
      ],
      "execution_count": 7,
      "outputs": [
        {
          "output_type": "stream",
          "text": [
            "[[b'Hello, TensorFlow!' b'Hello, TensorFlow!']\n",
            " [b'Hello, TensorFlow!' b'Hello, TensorFlow!']]\n",
            "b'hy'\n"
          ],
          "name": "stdout"
        }
      ]
    },
    {
      "cell_type": "code",
      "metadata": {
        "id": "acIG9v-Yqoo6",
        "colab_type": "code",
        "colab": {}
      },
      "source": [
        ""
      ],
      "execution_count": 0,
      "outputs": []
    }
  ]
}